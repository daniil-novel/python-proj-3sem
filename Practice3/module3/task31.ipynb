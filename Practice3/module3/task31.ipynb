{
 "cells": [
  {
   "cell_type": "code",
   "execution_count": 54,
   "outputs": [],
   "source": [
    "import csv\n",
    "import datetime\n",
    "import matplotlib.pyplot as plt\n",
    "\n",
    "def parse_time(text):\n",
    "    return datetime.datetime.strptime(text, '%Y-%m-%d %H:%M:%S.%f')\n",
    "\n",
    "def load_csv(filename):\n",
    "    with open(filename, encoding='utf8') as f:\n",
    "        return list(csv.reader(f, delimiter=','))\n",
    "\n",
    "messages = load_csv('messages.csv')[1:]  # remove the header row\n",
    "for message in messages:\n",
    "    message[4] = parse_time(message[4])\n",
    "\n",
    "checks = load_csv('checks.csv')[1:]\n",
    "for check in checks:\n",
    "    check[2] = parse_time(check[2])\n",
    "\n",
    "statuses = load_csv('statuses.csv')[1:]\n",
    "for status in statuses:\n",
    "    status[3] = parse_time(status[3])\n"
   ],
   "metadata": {
    "collapsed": false,
    "pycharm": {
     "name": "#%%\n"
    }
   }
  }
 ],
 "metadata": {
  "kernelspec": {
   "display_name": "Python 3",
   "language": "python",
   "name": "python3"
  },
  "language_info": {
   "codemirror_mode": {
    "name": "ipython",
    "version": 2
   },
   "file_extension": ".py",
   "mimetype": "text/x-python",
   "name": "python",
   "nbconvert_exporter": "python",
   "pygments_lexer": "ipython2",
   "version": "2.7.6"
  }
 },
 "nbformat": 4,
 "nbformat_minor": 0
}